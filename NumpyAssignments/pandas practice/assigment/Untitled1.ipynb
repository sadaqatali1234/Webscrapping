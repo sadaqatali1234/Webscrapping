{
 "cells": [
  {
   "cell_type": "code",
   "execution_count": 1,
   "metadata": {},
   "outputs": [],
   "source": [
    "# importing libarary\n",
    "import pandas as pd\n",
    "import numpy as np\n",
    "import matplotlib.pyplot as plt\n",
    "from glob import glob\n",
    "import re"
   ]
  },
  {
   "cell_type": "code",
   "execution_count": 2,
   "metadata": {},
   "outputs": [],
   "source": [
    "# loading data by using glob  & loop & concatenation all csv files\n",
    "files = glob(\"states*\")\n",
    "us_census = pd.concat((pd.read_csv(file) for file in files ),ignore_index=True)\n",
    "del us_census[\"Unnamed: 0\"]"
   ]
  },
  {
   "cell_type": "code",
   "execution_count": 3,
   "metadata": {},
   "outputs": [
    {
     "name": "stdout",
     "output_type": "stream",
     "text": [
      "Data types of us_census : \n",
      " State        object\n",
      "TotalPop      int64\n",
      "Hispanic     object\n",
      "White        object\n",
      "Black        object\n",
      "Native       object\n",
      "Asian        object\n",
      "Pacific      object\n",
      "Income       object\n",
      "GenderPop    object\n",
      "dtype: object\n",
      "___________________________________\n",
      "Column of us_census : \n",
      " Index(['State', 'TotalPop', 'Hispanic', 'White', 'Black', 'Native', 'Asian',\n",
      "       'Pacific', 'Income', 'GenderPop'],\n",
      "      dtype='object')\n"
     ]
    }
   ],
   "source": [
    "# look .dtypes and .columns\n",
    "d_types=us_census.dtypes\n",
    "print(\"Data types of us_census : \\n\",d_types)\n",
    "print('___________________________________')\n",
    "col= us_census.columns\n",
    "print(\"Column of us_census : \\n\",col)"
   ]
  },
  {
   "cell_type": "code",
   "execution_count": 4,
   "metadata": {},
   "outputs": [
    {
     "data": {
      "text/plain": [
       "State        object\n",
       "TotalPop      int64\n",
       "Hispanic     object\n",
       "White        object\n",
       "Black        object\n",
       "Native       object\n",
       "Asian        object\n",
       "Pacific      object\n",
       "Income       object\n",
       "GenderPop    object\n",
       "dtype: object"
      ]
     },
     "execution_count": 4,
     "metadata": {},
     "output_type": "execute_result"
    }
   ],
   "source": [
    "# task 4 : look at the Data head Frame dtypes \n",
    "us_census.head(2).dtypes"
   ]
  },
  {
   "cell_type": "code",
   "execution_count": 5,
   "metadata": {},
   "outputs": [
    {
     "name": "stdout",
     "output_type": "stream",
     "text": [
      "After conversion the Data type of income columns is  :  float64\n"
     ]
    }
   ],
   "source": [
    "us_census[\"Income\"]=us_census[\"Income\"].replace(\"\\$\",\" \",regex=True)\n",
    "us_census['Income'] = us_census['Income'].astype(\"float\")\n",
    "print(\"After conversion the Data type of income columns is  : \",us_census['Income'].dtypes)\n"
   ]
  },
  {
   "cell_type": "code",
   "execution_count": 6,
   "metadata": {},
   "outputs": [],
   "source": [
    "#us_census['Income']=us_census['Income'].replace('[/$]',\"\",regex=True)\n",
    "#us_census['Income'] = pd.to_numeric(us_census['Income'])\n",
    "#print(us_census.dtypes)"
   ]
  },
  {
   "cell_type": "code",
   "execution_count": 7,
   "metadata": {},
   "outputs": [
    {
     "data": {
      "text/plain": [
       "'2341093M_2489527F'"
      ]
     },
     "execution_count": 7,
     "metadata": {},
     "output_type": "execute_result"
    }
   ],
   "source": [
    "#us_census[\"Income\"]\n",
    "us_census['GenderPop'][0]"
   ]
  },
  {
   "cell_type": "code",
   "execution_count": 8,
   "metadata": {},
   "outputs": [
    {
     "data": {
      "text/plain": [
       "0      2489527.0\n",
       "1       349215.0\n",
       "2      3342840.0\n",
       "3      1506295.0\n",
       "4     19334329.0\n",
       "5      2630239.0\n",
       "6      2630239.0\n",
       "7      1841615.0\n",
       "8       478041.0\n",
       "9       340810.0\n",
       "10    10045763.0\n",
       "11     5123362.0\n",
       "12     5123362.0\n",
       "13      696428.0\n",
       "14      806083.0\n",
       "15     6556862.0\n",
       "16     3333382.0\n",
       "17     1558931.0\n",
       "18     1558931.0\n",
       "19     1453125.0\n",
       "20     2233145.0\n",
       "21     2364097.0\n",
       "22      679019.0\n",
       "23           NaN\n",
       "24           NaN\n",
       "25     3455936.0\n",
       "26     5038598.0\n",
       "27     2727005.0\n",
       "28     1536358.0\n",
       "29     3081445.0\n",
       "30     3081445.0\n",
       "31           NaN\n",
       "32      939759.0\n",
       "33     1390901.0\n",
       "34      670717.0\n",
       "35     4561386.0\n",
       "36     4561386.0\n",
       "37     1051703.0\n",
       "38    10131373.0\n",
       "39     5049925.0\n",
       "40      353677.0\n",
       "41     5913084.0\n",
       "42     5913084.0\n",
       "43     1942789.0\n",
       "44     1990780.0\n",
       "45     6534215.0\n",
       "46     1869213.0\n",
       "47      543273.0\n",
       "48      543273.0\n",
       "49     2455167.0\n",
       "50      419713.0\n",
       "51     3331859.0\n",
       "52    13367298.0\n",
       "53     1444150.0\n",
       "54     1444150.0\n",
       "55      318031.0\n",
       "56     4195682.0\n",
       "57     3497739.0\n",
       "58      937789.0\n",
       "59     2890732.0\n",
       "Name: female, dtype: float64"
      ]
     },
     "execution_count": 8,
     "metadata": {},
     "output_type": "execute_result"
    }
   ],
   "source": [
    "split_gender = us_census['GenderPop'].str.split('_', expand=True)\n",
    "us_census[\"female\"]=split_gender[1].str.extract('(\\d+)',expand=True)\n",
    "us_census[\"female\"]=pd.to_numeric(us_census[\"female\"])\n",
    "us_census[\"Male\"]=split_gender[0].str.extract('(\\d+)',expand=True)\n",
    "us_census[\"Male\"]=pd.to_numeric(us_census[\"Male\"])\n",
    "us_census[\"female\"]"
   ]
  },
  {
   "cell_type": "code",
   "execution_count": 9,
   "metadata": {},
   "outputs": [
    {
     "data": {
      "text/plain": [
       "State         object\n",
       "TotalPop       int64\n",
       "Hispanic      object\n",
       "White         object\n",
       "Black         object\n",
       "Native        object\n",
       "Asian         object\n",
       "Pacific       object\n",
       "Income       float64\n",
       "GenderPop     object\n",
       "female       float64\n",
       "Male           int64\n",
       "dtype: object"
      ]
     },
     "execution_count": 9,
     "metadata": {},
     "output_type": "execute_result"
    }
   ],
   "source": [
    "us_census.dtypes"
   ]
  },
  {
   "cell_type": "code",
   "execution_count": 10,
   "metadata": {},
   "outputs": [
    {
     "data": {
      "image/png": "[encoded data removed]",
      "text/plain": [
       "<Figure size 432x288 with 1 Axes>"
      ]
     },
     "metadata": {
      "needs_background": "light"
     },
     "output_type": "display_data"
    }
   ],
   "source": [
    "\n",
    "x=us_census[\"Income\"]\n",
    "y=us_census[\"female\"]\n",
    "plt.scatter(x,y)\n",
    "plt.xlabel(\"Income\")\n",
    "plt.ylabel(\"female\")\n",
    "plt.show()"
   ]
  },
  {
   "cell_type": "code",
   "execution_count": 11,
   "metadata": {},
   "outputs": [
    {
     "name": "stdout",
     "output_type": "stream",
     "text": [
      "23   NaN\n",
      "24   NaN\n",
      "31   NaN\n",
      "Name: female, dtype: float64\n"
     ]
    }
   ],
   "source": [
    "female_na_values = us_census[\"female\"][us_census[\"female\"].isnull()]\n",
    "print(female_na_values)"
   ]
  },
  {
   "cell_type": "code",
   "execution_count": 12,
   "metadata": {},
   "outputs": [
    {
     "data": {
      "text/plain": [
       "False"
      ]
     },
     "execution_count": 12,
     "metadata": {},
     "output_type": "execute_result"
    }
   ],
   "source": [
    "total_pop=us_census[\"TotalPop\"]-us_census[\"Male\"]\n",
    "us_census['female']=us_census['female'].fillna(value= total_pop)\n",
    "us_census['female'].isnull().any()"
   ]
  },
  {
   "cell_type": "code",
   "execution_count": 13,
   "metadata": {},
   "outputs": [],
   "source": [
    "#duplicated_row\n",
    "duplicated_row = us_census[us_census.duplicated()]"
   ]
  },
  {
   "cell_type": "code",
   "execution_count": 14,
   "metadata": {},
   "outputs": [
    {
     "data": {
      "text/plain": [
       "0     False\n",
       "1     False\n",
       "2     False\n",
       "3     False\n",
       "4     False\n",
       "5     False\n",
       "7     False\n",
       "8     False\n",
       "9     False\n",
       "10    False\n",
       "11    False\n",
       "13    False\n",
       "14    False\n",
       "15    False\n",
       "16    False\n",
       "17    False\n",
       "19    False\n",
       "20    False\n",
       "21    False\n",
       "22    False\n",
       "23    False\n",
       "25    False\n",
       "26    False\n",
       "27    False\n",
       "28    False\n",
       "29    False\n",
       "31    False\n",
       "32    False\n",
       "33    False\n",
       "34    False\n",
       "35    False\n",
       "37    False\n",
       "38    False\n",
       "39    False\n",
       "40    False\n",
       "41    False\n",
       "43    False\n",
       "44    False\n",
       "45    False\n",
       "46    False\n",
       "47    False\n",
       "49    False\n",
       "50    False\n",
       "51    False\n",
       "52    False\n",
       "53    False\n",
       "55    False\n",
       "56    False\n",
       "57    False\n",
       "58    False\n",
       "59    False\n",
       "dtype: bool"
      ]
     },
     "execution_count": 14,
     "metadata": {},
     "output_type": "execute_result"
    }
   ],
   "source": [
    "# drop these Duplicated row\n",
    "us_census.drop_duplicates(inplace=True)\n",
    "us_census.duplicated()\n"
   ]
  },
  {
   "cell_type": "code",
   "execution_count": 15,
   "metadata": {},
   "outputs": [
    {
     "data": {
      "image/png": "[encoded data removed]",
      "text/plain": [
       "<Figure size 432x288 with 1 Axes>"
      ]
     },
     "metadata": {
      "needs_background": "light"
     },
     "output_type": "display_data"
    }
   ],
   "source": [
    "plt.scatter(x,y)\n",
    "plt.xlabel(\"Income\")\n",
    "plt.ylabel(\"Female\")\n",
    "plt.show()"
   ]
  },
  {
   "cell_type": "code",
   "execution_count": 16,
   "metadata": {},
   "outputs": [
    {
     "data": {
      "text/plain": [
       "State         object\n",
       "TotalPop       int64\n",
       "Hispanic      object\n",
       "White         object\n",
       "Black         object\n",
       "Native        object\n",
       "Asian         object\n",
       "Pacific       object\n",
       "Income       float64\n",
       "GenderPop     object\n",
       "female       float64\n",
       "Male           int64\n",
       "dtype: object"
      ]
     },
     "execution_count": 16,
     "metadata": {},
     "output_type": "execute_result"
    }
   ],
   "source": [
    "us_census.dtypes"
   ]
  },
  {
   "cell_type": "code",
   "execution_count": 17,
   "metadata": {},
   "outputs": [],
   "source": [
    "us_census = us_census.replace('%*','',regex=True)\n",
    "us_census[[\"Hispanic\",\"White\",\"Black\",\"Native\",\"Asian\",\"Pacific\"]] =us_census[[\"Hispanic\",\"White\",\"Black\",\"Native\",\"Asian\",\"Pacific\"]].apply(pd.to_numeric)"
   ]
  },
  {
   "cell_type": "code",
   "execution_count": 18,
   "metadata": {},
   "outputs": [
    {
     "data": {
      "text/plain": [
       "State         object\n",
       "TotalPop       int64\n",
       "Hispanic     float64\n",
       "White        float64\n",
       "Black        float64\n",
       "Native       float64\n",
       "Asian        float64\n",
       "Pacific      float64\n",
       "Income       float64\n",
       "GenderPop     object\n",
       "female       float64\n",
       "Male           int64\n",
       "dtype: object"
      ]
     },
     "execution_count": 18,
     "metadata": {},
     "output_type": "execute_result"
    }
   ],
   "source": [
    "us_census.dtypes"
   ]
  },
  {
   "cell_type": "code",
   "execution_count": 27,
   "metadata": {},
   "outputs": [
    {
     "data": {
      "text/plain": [
       "State        False\n",
       "TotalPop     False\n",
       "Hispanic     False\n",
       "White        False\n",
       "Black        False\n",
       "Native       False\n",
       "Asian        False\n",
       "Pacific      False\n",
       "Income       False\n",
       "GenderPop    False\n",
       "female       False\n",
       "Male         False\n",
       "dtype: bool"
      ]
     },
     "execution_count": 27,
     "metadata": {},
     "output_type": "execute_result"
    }
   ],
   "source": [
    "us_census = us_census.fillna(method=\"ffill\")\n",
    "us_census.isnull().any()"
   ]
  },
  {
   "cell_type": "code",
   "execution_count": 29,
   "metadata": {},
   "outputs": [
    {
     "data": {
      "text/plain": [
       "False"
      ]
     },
     "execution_count": 29,
     "metadata": {},
     "output_type": "execute_result"
    }
   ],
   "source": [
    "us_census.duplicated().any()"
   ]
  },
  {
   "cell_type": "code",
   "execution_count": 40,
   "metadata": {},
   "outputs": [
    {
     "data": {
      "text/plain": [
       "(array([3., 3., 3., 3.]),\n",
       " array([ 0.  ,  2.75,  5.5 ,  8.25, 11.  ]),\n",
       " <a list of 4 Patch objects>)"
      ]
     },
     "execution_count": 40,
     "metadata": {},
     "output_type": "execute_result"
    },
    {
     "data": {
      "image/png": "[encoded data removed]",
      "text/plain": [
       "<Figure size 432x288 with 1 Axes>"
      ]
     },
     "metadata": {
      "needs_background": "light"
     },
     "output_type": "display_data"
    }
   ],
   "source": [
    "plt.hist(us_census.columns,bins= 4, rwidth=.80)"
   ]
  },
  {
   "cell_type": "code",
   "execution_count": null,
   "metadata": {},
   "outputs": [],
   "source": []
  }
 ],
 "metadata": {
  "kernelspec": {
   "display_name": "Python 3",
   "language": "python",
   "name": "python3"
  },
  "language_info": {
   "codemirror_mode": {
    "name": "ipython",
    "version": 3
   },
   "file_extension": ".py",
   "mimetype": "text/x-python",
   "name": "python",
   "nbconvert_exporter": "python",
   "pygments_lexer": "ipython3",
   "version": "3.7.6"
  }
 },
 "nbformat": 4,
 "nbformat_minor": 4
}
