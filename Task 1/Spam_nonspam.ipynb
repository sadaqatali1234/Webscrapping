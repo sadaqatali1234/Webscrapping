{
 "cells": [
  {
   "cell_type": "code",
   "execution_count": 1,
   "metadata": {},
   "outputs": [
    {
     "name": "stdout",
     "output_type": "stream",
     "text": [
      "\n",
      "\t\t\t first Ten Rows\n",
      "     label                                               text\n",
      "0  nonSpam  Subject: enron methanol ; meter # : 988291\\r\\n...\n",
      "1  nonSpam  Subject: hpl nom for january 9 , 2001\\r\\n( see...\n",
      "2  nonSpam  Subject: neon retreat\\r\\nho ho ho , we ' re ar...\n",
      "3     spam  Subject: photoshop , windows , office . cheap ...\n",
      "4  nonSpam  Subject: re : indian springs\\r\\nthis deal is t...\n",
      "5  nonSpam  Subject: ehronline web address change\\r\\nthis ...\n",
      "6  nonSpam  Subject: spring savings certificate - take 30 ...\n",
      "7     spam  Subject: looking for medication ? we ` re the ...\n",
      "8  nonSpam  Subject: noms / actual flow for 2 / 26\\r\\nwe a...\n",
      "9  nonSpam  Subject: nominations for oct . 21 - 23 , 2000\\...\n",
      "\n",
      "\t\t\t Last Ten Rows\n",
      "        label                                               text\n",
      "5161     spam  Subject: penny stocks are about timing\\r\\nnoma...\n",
      "5162     spam  Subject: anomaly boys from 3881\\r\\nuosda apapr...\n",
      "5163  nonSpam  Subject: re : meter # : 1266 ; august 2000 / a...\n",
      "5164     spam  Subject: slutty milf wants to meet you\\r\\ntake...\n",
      "5165  nonSpam  Subject: fw : crosstex energy , driscoll ranch...\n",
      "5166  nonSpam  Subject: put the 10 on the ft\\r\\nthe transport...\n",
      "5167  nonSpam  Subject: 3 / 4 / 2000 and following noms\\r\\nhp...\n",
      "5168  nonSpam  Subject: calpine daily gas nomination\\r\\n>\\r\\n...\n",
      "5169  nonSpam  Subject: industrial worksheets for august 2000...\n",
      "5170     spam  Subject: important online banking alert\\r\\ndea...\n"
     ]
    }
   ],
   "source": [
    "#import Pandas Libarary as Pandas as pd\n",
    "import pandas as pd\n",
    "\n",
    "#reading csv file\n",
    "df = pd.read_csv(\"s_dataset.csv\")\n",
    "\n",
    "#preprocessing\n",
    "df = df.drop(columns=['Unnamed: 0','label_num'])\n",
    "\n",
    "\n",
    "#printing Desired Data\n",
    "print(\"\\n\\t\\t\\t first Ten Rows\")\n",
    "print(df.head(10)) #use df.head(10) instead if using jupyter notebook for batter view\n",
    "\n",
    "print(\"\\n\\t\\t\\t Last Ten Rows\")\n",
    "print(df.tail(10)) # use df.tail(10) instead if using jupyter notebook for batter view"
   ]
  },
  {
   "cell_type": "code",
   "execution_count": 2,
   "metadata": {},
   "outputs": [
    {
     "name": "stdout",
     "output_type": "stream",
     "text": [
      "<class 'pandas.core.frame.DataFrame'>\n",
      "RangeIndex: 5171 entries, 0 to 5170\n",
      "Data columns (total 2 columns):\n",
      " #   Column  Non-Null Count  Dtype \n",
      "---  ------  --------------  ----- \n",
      " 0   label   5171 non-null   object\n",
      " 1   text    5171 non-null   object\n",
      "dtypes: object(2)\n",
      "memory usage: 80.9+ KB\n"
     ]
    }
   ],
   "source": [
    "df.info()"
   ]
  },
  {
   "cell_type": "code",
   "execution_count": 3,
   "metadata": {},
   "outputs": [
    {
     "data": {
      "text/plain": [
       "(5171, 2)"
      ]
     },
     "execution_count": 3,
     "metadata": {},
     "output_type": "execute_result"
    }
   ],
   "source": [
    "df.shape"
   ]
  },
  {
   "cell_type": "code",
   "execution_count": 4,
   "metadata": {},
   "outputs": [],
   "source": [
    "#df[\"text\"] = df[\"text\"].str.replace(\",\",\"\")   \n",
    "# see i remove commas"
   ]
  },
  {
   "cell_type": "code",
   "execution_count": 5,
   "metadata": {},
   "outputs": [],
   "source": [
    "df[\"text\"]=df['text'].replace(\",\",\"\",regex=True)"
   ]
  },
  {
   "cell_type": "code",
   "execution_count": 6,
   "metadata": {},
   "outputs": [
    {
     "data": {
      "text/plain": [
       "0       Subject: enron methanol ; meter # : 988291\\r\\n...\n",
       "1       Subject: hpl nom for january 9  2001\\r\\n( see ...\n",
       "2       Subject: neon retreat\\r\\nho ho ho  we ' re aro...\n",
       "3       Subject: photoshop  windows  office . cheap . ...\n",
       "4       Subject: re : indian springs\\r\\nthis deal is t...\n",
       "                              ...                        \n",
       "5166    Subject: put the 10 on the ft\\r\\nthe transport...\n",
       "5167    Subject: 3 / 4 / 2000 and following noms\\r\\nhp...\n",
       "5168    Subject: calpine daily gas nomination\\r\\n>\\r\\n...\n",
       "5169    Subject: industrial worksheets for august 2000...\n",
       "5170    Subject: important online banking alert\\r\\ndea...\n",
       "Name: text, Length: 5171, dtype: object"
      ]
     },
     "execution_count": 6,
     "metadata": {},
     "output_type": "execute_result"
    }
   ],
   "source": [
    "df[\"text\"]"
   ]
  },
  {
   "cell_type": "code",
   "execution_count": 7,
   "metadata": {},
   "outputs": [
    {
     "data": {
      "text/html": [
       "<div>\n",
       "<style scoped>\n",
       "    .dataframe tbody tr th:only-of-type {\n",
       "        vertical-align: middle;\n",
       "    }\n",
       "\n",
       "    .dataframe tbody tr th {\n",
       "        vertical-align: top;\n",
       "    }\n",
       "\n",
       "    .dataframe thead th {\n",
       "        text-align: right;\n",
       "    }\n",
       "</style>\n",
       "<table border=\"1\" class=\"dataframe\">\n",
       "  <thead>\n",
       "    <tr style=\"text-align: right;\">\n",
       "      <th></th>\n",
       "      <th>label</th>\n",
       "      <th>text</th>\n",
       "    </tr>\n",
       "  </thead>\n",
       "  <tbody>\n",
       "    <tr>\n",
       "      <th>0</th>\n",
       "      <td>nonSpam</td>\n",
       "      <td>Subject: enron methanol ; meter # : 988291\\r\\n...</td>\n",
       "    </tr>\n",
       "    <tr>\n",
       "      <th>1</th>\n",
       "      <td>nonSpam</td>\n",
       "      <td>Subject: hpl nom for january 9  2001\\r\\n( see ...</td>\n",
       "    </tr>\n",
       "    <tr>\n",
       "      <th>2</th>\n",
       "      <td>nonSpam</td>\n",
       "      <td>Subject: neon retreat\\r\\nho ho ho  we ' re aro...</td>\n",
       "    </tr>\n",
       "    <tr>\n",
       "      <th>3</th>\n",
       "      <td>spam</td>\n",
       "      <td>Subject: photoshop  windows  office . cheap . ...</td>\n",
       "    </tr>\n",
       "    <tr>\n",
       "      <th>4</th>\n",
       "      <td>nonSpam</td>\n",
       "      <td>Subject: re : indian springs\\r\\nthis deal is t...</td>\n",
       "    </tr>\n",
       "    <tr>\n",
       "      <th>...</th>\n",
       "      <td>...</td>\n",
       "      <td>...</td>\n",
       "    </tr>\n",
       "    <tr>\n",
       "      <th>5166</th>\n",
       "      <td>nonSpam</td>\n",
       "      <td>Subject: put the 10 on the ft\\r\\nthe transport...</td>\n",
       "    </tr>\n",
       "    <tr>\n",
       "      <th>5167</th>\n",
       "      <td>nonSpam</td>\n",
       "      <td>Subject: 3 / 4 / 2000 and following noms\\r\\nhp...</td>\n",
       "    </tr>\n",
       "    <tr>\n",
       "      <th>5168</th>\n",
       "      <td>nonSpam</td>\n",
       "      <td>Subject: calpine daily gas nomination\\r\\n&gt;\\r\\n...</td>\n",
       "    </tr>\n",
       "    <tr>\n",
       "      <th>5169</th>\n",
       "      <td>nonSpam</td>\n",
       "      <td>Subject: industrial worksheets for august 2000...</td>\n",
       "    </tr>\n",
       "    <tr>\n",
       "      <th>5170</th>\n",
       "      <td>spam</td>\n",
       "      <td>Subject: important online banking alert\\r\\ndea...</td>\n",
       "    </tr>\n",
       "  </tbody>\n",
       "</table>\n",
       "<p>5171 rows × 2 columns</p>\n",
       "</div>"
      ],
      "text/plain": [
       "        label                                               text\n",
       "0     nonSpam  Subject: enron methanol ; meter # : 988291\\r\\n...\n",
       "1     nonSpam  Subject: hpl nom for january 9  2001\\r\\n( see ...\n",
       "2     nonSpam  Subject: neon retreat\\r\\nho ho ho  we ' re aro...\n",
       "3        spam  Subject: photoshop  windows  office . cheap . ...\n",
       "4     nonSpam  Subject: re : indian springs\\r\\nthis deal is t...\n",
       "...       ...                                                ...\n",
       "5166  nonSpam  Subject: put the 10 on the ft\\r\\nthe transport...\n",
       "5167  nonSpam  Subject: 3 / 4 / 2000 and following noms\\r\\nhp...\n",
       "5168  nonSpam  Subject: calpine daily gas nomination\\r\\n>\\r\\n...\n",
       "5169  nonSpam  Subject: industrial worksheets for august 2000...\n",
       "5170     spam  Subject: important online banking alert\\r\\ndea...\n",
       "\n",
       "[5171 rows x 2 columns]"
      ]
     },
     "execution_count": 7,
     "metadata": {},
     "output_type": "execute_result"
    }
   ],
   "source": [
    "df"
   ]
  },
  {
   "cell_type": "code",
   "execution_count": 8,
   "metadata": {},
   "outputs": [],
   "source": [
    "df.index.names=['index']"
   ]
  },
  {
   "cell_type": "code",
   "execution_count": 9,
   "metadata": {},
   "outputs": [
    {
     "data": {
      "text/html": [
       "<div>\n",
       "<style scoped>\n",
       "    .dataframe tbody tr th:only-of-type {\n",
       "        vertical-align: middle;\n",
       "    }\n",
       "\n",
       "    .dataframe tbody tr th {\n",
       "        vertical-align: top;\n",
       "    }\n",
       "\n",
       "    .dataframe thead th {\n",
       "        text-align: right;\n",
       "    }\n",
       "</style>\n",
       "<table border=\"1\" class=\"dataframe\">\n",
       "  <thead>\n",
       "    <tr style=\"text-align: right;\">\n",
       "      <th></th>\n",
       "      <th>label</th>\n",
       "      <th>text</th>\n",
       "    </tr>\n",
       "    <tr>\n",
       "      <th>index</th>\n",
       "      <th></th>\n",
       "      <th></th>\n",
       "    </tr>\n",
       "  </thead>\n",
       "  <tbody>\n",
       "    <tr>\n",
       "      <th>0</th>\n",
       "      <td>nonSpam</td>\n",
       "      <td>Subject: enron methanol ; meter # : 988291\\r\\n...</td>\n",
       "    </tr>\n",
       "    <tr>\n",
       "      <th>1</th>\n",
       "      <td>nonSpam</td>\n",
       "      <td>Subject: hpl nom for january 9  2001\\r\\n( see ...</td>\n",
       "    </tr>\n",
       "  </tbody>\n",
       "</table>\n",
       "</div>"
      ],
      "text/plain": [
       "         label                                               text\n",
       "index                                                            \n",
       "0      nonSpam  Subject: enron methanol ; meter # : 988291\\r\\n...\n",
       "1      nonSpam  Subject: hpl nom for january 9  2001\\r\\n( see ..."
      ]
     },
     "execution_count": 9,
     "metadata": {},
     "output_type": "execute_result"
    }
   ],
   "source": [
    "df.head(2)"
   ]
  },
  {
   "cell_type": "code",
   "execution_count": null,
   "metadata": {},
   "outputs": [],
   "source": []
  }
 ],
 "metadata": {
  "kernelspec": {
   "display_name": "Python 3",
   "language": "python",
   "name": "python3"
  },
  "language_info": {
   "codemirror_mode": {
    "name": "ipython",
    "version": 3
   },
   "file_extension": ".py",
   "mimetype": "text/x-python",
   "name": "python",
   "nbconvert_exporter": "python",
   "pygments_lexer": "ipython3",
   "version": "3.7.6"
  }
 },
 "nbformat": 4,
 "nbformat_minor": 4
}
