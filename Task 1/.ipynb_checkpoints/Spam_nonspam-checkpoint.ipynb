{
 "cells": [
  {
   "cell_type": "code",
   "execution_count": null,
   "metadata": {},
   "outputs": [],
   "source": [
    "#import Pandas Libarary as Pandas as pd\n",
    "import pandas as pd\n",
    "\n",
    "#reading csv file\n",
    "df = pd.read_csv(\"s_dataset.csv\")\n",
    "\n",
    "#preprocessing\n",
    "df = df.drop(columns=['Unnamed: 0','label_num'])\n",
    "\n",
    "\n",
    "#printing Desired Data\n",
    "print(\"\\n\\t\\t\\t first Ten Rows\")\n",
    "print(df.head(10)) #use df.head(10) instead if using jupyter notebook for batter view\n",
    "\n",
    "print(\"\\n\\t\\t\\t Last Ten Rows\")\n",
    "print(df.tail(10)) # use df.tail(10) instead if using jupyter notebook for batter view"
   ]
  },
  {
   "cell_type": "code",
   "execution_count": null,
   "metadata": {},
   "outputs": [],
   "source": [
    "df.info()"
   ]
  },
  {
   "cell_type": "code",
   "execution_count": null,
   "metadata": {},
   "outputs": [],
   "source": [
    "df.shape"
   ]
  },
  {
   "cell_type": "code",
   "execution_count": null,
   "metadata": {},
   "outputs": [],
   "source": [
    "#df[\"text\"] = df[\"text\"].str.replace(\",\",\"\")   \n",
    "# see i remove commas"
   ]
  },
  {
   "cell_type": "code",
   "execution_count": null,
   "metadata": {},
   "outputs": [],
   "source": [
    "df[\"text\"]=df['text'].replace(\",\",\"\",regex=True)"
   ]
  },
  {
   "cell_type": "code",
   "execution_count": null,
   "metadata": {},
   "outputs": [],
   "source": [
    "df[\"text\"]"
   ]
  },
  {
   "cell_type": "code",
   "execution_count": null,
   "metadata": {},
   "outputs": [],
   "source": []
  }
 ],
 "metadata": {
  "kernelspec": {
   "display_name": "Python 3",
   "language": "python",
   "name": "python3"
  },
  "language_info": {
   "codemirror_mode": {
    "name": "ipython",
    "version": 3
   },
   "file_extension": ".py",
   "mimetype": "text/x-python",
   "name": "python",
   "nbconvert_exporter": "python",
   "pygments_lexer": "ipython3",
   "version": "3.7.6"
  }
 },
 "nbformat": 4,
 "nbformat_minor": 4
}
