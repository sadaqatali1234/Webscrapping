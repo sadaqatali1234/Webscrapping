{
 "cells": [
  {
   "cell_type": "code",
   "execution_count": 1,
   "metadata": {},
   "outputs": [],
   "source": [
    "import pandas as pd\n",
    "import numpy as np\n",
    "import nltk\n",
    "from nltk.corpus import stopwords\n",
    "import string"
   ]
  },
  {
   "cell_type": "code",
   "execution_count": 2,
   "metadata": {},
   "outputs": [],
   "source": [
    "df= pd.read_csv(\"s_dataset.csv\")\n"
   ]
  },
  {
   "cell_type": "code",
   "execution_count": 3,
   "metadata": {},
   "outputs": [
    {
     "data": {
      "text/html": [
       "<div>\n",
       "<style scoped>\n",
       "    .dataframe tbody tr th:only-of-type {\n",
       "        vertical-align: middle;\n",
       "    }\n",
       "\n",
       "    .dataframe tbody tr th {\n",
       "        vertical-align: top;\n",
       "    }\n",
       "\n",
       "    .dataframe thead th {\n",
       "        text-align: right;\n",
       "    }\n",
       "</style>\n",
       "<table border=\"1\" class=\"dataframe\">\n",
       "  <thead>\n",
       "    <tr style=\"text-align: right;\">\n",
       "      <th></th>\n",
       "      <th>Unnamed: 0</th>\n",
       "      <th>label</th>\n",
       "      <th>text</th>\n",
       "      <th>label_num</th>\n",
       "    </tr>\n",
       "  </thead>\n",
       "  <tbody>\n",
       "    <tr>\n",
       "      <th>0</th>\n",
       "      <td>605</td>\n",
       "      <td>nonSpam</td>\n",
       "      <td>Subject: enron methanol ; meter # : 988291\\r\\n...</td>\n",
       "      <td>0</td>\n",
       "    </tr>\n",
       "    <tr>\n",
       "      <th>1</th>\n",
       "      <td>2349</td>\n",
       "      <td>nonSpam</td>\n",
       "      <td>Subject: hpl nom for january 9 , 2001\\r\\n( see...</td>\n",
       "      <td>0</td>\n",
       "    </tr>\n",
       "    <tr>\n",
       "      <th>2</th>\n",
       "      <td>3624</td>\n",
       "      <td>nonSpam</td>\n",
       "      <td>Subject: neon retreat\\r\\nho ho ho , we ' re ar...</td>\n",
       "      <td>0</td>\n",
       "    </tr>\n",
       "    <tr>\n",
       "      <th>3</th>\n",
       "      <td>4685</td>\n",
       "      <td>spam</td>\n",
       "      <td>Subject: photoshop , windows , office . cheap ...</td>\n",
       "      <td>1</td>\n",
       "    </tr>\n",
       "    <tr>\n",
       "      <th>4</th>\n",
       "      <td>2030</td>\n",
       "      <td>nonSpam</td>\n",
       "      <td>Subject: re : indian springs\\r\\nthis deal is t...</td>\n",
       "      <td>0</td>\n",
       "    </tr>\n",
       "  </tbody>\n",
       "</table>\n",
       "</div>"
      ],
      "text/plain": [
       "   Unnamed: 0    label                                               text  \\\n",
       "0         605  nonSpam  Subject: enron methanol ; meter # : 988291\\r\\n...   \n",
       "1        2349  nonSpam  Subject: hpl nom for january 9 , 2001\\r\\n( see...   \n",
       "2        3624  nonSpam  Subject: neon retreat\\r\\nho ho ho , we ' re ar...   \n",
       "3        4685     spam  Subject: photoshop , windows , office . cheap ...   \n",
       "4        2030  nonSpam  Subject: re : indian springs\\r\\nthis deal is t...   \n",
       "\n",
       "   label_num  \n",
       "0          0  \n",
       "1          0  \n",
       "2          0  \n",
       "3          1  \n",
       "4          0  "
      ]
     },
     "execution_count": 3,
     "metadata": {},
     "output_type": "execute_result"
    }
   ],
   "source": [
    "df.head(5)"
   ]
  },
  {
   "cell_type": "code",
   "execution_count": 4,
   "metadata": {},
   "outputs": [],
   "source": [
    "del df[\"Unnamed: 0\"]"
   ]
  },
  {
   "cell_type": "code",
   "execution_count": 5,
   "metadata": {},
   "outputs": [
    {
     "data": {
      "text/plain": [
       "(5171, 3)"
      ]
     },
     "execution_count": 5,
     "metadata": {},
     "output_type": "execute_result"
    }
   ],
   "source": [
    "df.shape"
   ]
  },
  {
   "cell_type": "code",
   "execution_count": 6,
   "metadata": {},
   "outputs": [
    {
     "data": {
      "text/plain": [
       "Index(['label', 'text', 'label_num'], dtype='object')"
      ]
     },
     "execution_count": 6,
     "metadata": {},
     "output_type": "execute_result"
    }
   ],
   "source": [
    "df.columns"
   ]
  },
  {
   "cell_type": "code",
   "execution_count": 7,
   "metadata": {},
   "outputs": [],
   "source": [
    "df.drop_duplicates(inplace=True)"
   ]
  },
  {
   "cell_type": "code",
   "execution_count": 8,
   "metadata": {},
   "outputs": [
    {
     "data": {
      "text/plain": [
       "(4993, 3)"
      ]
     },
     "execution_count": 8,
     "metadata": {},
     "output_type": "execute_result"
    }
   ],
   "source": [
    "df.shape"
   ]
  },
  {
   "cell_type": "code",
   "execution_count": 9,
   "metadata": {},
   "outputs": [
    {
     "data": {
      "text/plain": [
       "label        False\n",
       "text         False\n",
       "label_num    False\n",
       "dtype: bool"
      ]
     },
     "execution_count": 9,
     "metadata": {},
     "output_type": "execute_result"
    }
   ],
   "source": [
    "df.isnull().any()"
   ]
  },
  {
   "cell_type": "code",
   "execution_count": 10,
   "metadata": {},
   "outputs": [
    {
     "name": "stderr",
     "output_type": "stream",
     "text": [
      "[nltk_data] Downloading package stopwords to\n",
      "[nltk_data]     C:\\Users\\SOFTAGE\\AppData\\Roaming\\nltk_data...\n",
      "[nltk_data]   Package stopwords is already up-to-date!\n"
     ]
    },
    {
     "data": {
      "text/plain": [
       "True"
      ]
     },
     "execution_count": 10,
     "metadata": {},
     "output_type": "execute_result"
    }
   ],
   "source": [
    "#Need to download stopwords\n",
    "nltk.download('stopwords')"
   ]
  },
  {
   "cell_type": "code",
   "execution_count": 11,
   "metadata": {},
   "outputs": [],
   "source": [
    "#Tokenization (a list of tokens), will be used as the analyzer\n",
    "#1.Punctuations are [!\"#$%&'()*+,-./:;<=>?@[\\]^_`{|}~]\n",
    "#2.Stop words in natural language processing, are useless words (data).\n",
    "def process_text(text):\n",
    "    \n",
    "    #1 Remove Punctuation\n",
    "    nopunc = [char for char in text if char not in string.punctuation]\n",
    "    nopunc = ''.join(nopunc)\n",
    "    \n",
    "    #2 Remove Stop Words\n",
    "    clean_words = [word for word in nopunc.split() if word.lower() not in stopwords.words('english')]\n",
    "    \n",
    "    #3 Return a list of clean words\n",
    "    return clean_words"
   ]
  },
  {
   "cell_type": "code",
   "execution_count": 12,
   "metadata": {},
   "outputs": [
    {
     "data": {
      "text/plain": [
       "0    [Subject, enron, methanol, meter, 988291, foll...\n",
       "1    [Subject, hpl, nom, january, 9, 2001, see, att...\n",
       "2    [Subject, neon, retreat, ho, ho, ho, around, w...\n",
       "3    [Subject, photoshop, windows, office, cheap, m...\n",
       "4    [Subject, indian, springs, deal, book, teco, p...\n",
       "5    [Subject, ehronline, web, address, change, mes...\n",
       "6    [Subject, spring, savings, certificate, take, ...\n",
       "7    [Subject, looking, medication, best, source, d...\n",
       "8    [Subject, noms, actual, flow, 2, 26, agree, fo...\n",
       "9    [Subject, nominations, oct, 21, 23, 2000, see,...\n",
       "Name: text, dtype: object"
      ]
     },
     "execution_count": 12,
     "metadata": {},
     "output_type": "execute_result"
    }
   ],
   "source": [
    "#Show the Tokenization (a list of tokens )\n",
    "df['text'].head(10).apply(process_text)"
   ]
  },
  {
   "cell_type": "code",
   "execution_count": 13,
   "metadata": {
    "scrolled": true
   },
   "outputs": [],
   "source": [
    "from sklearn.feature_extraction.text import CountVectorizer\n",
    "messages_bow = CountVectorizer(analyzer=process_text).fit_transform(df['text'])"
   ]
  },
  {
   "cell_type": "code",
   "execution_count": 14,
   "metadata": {},
   "outputs": [],
   "source": [
    "#Split data into 80% training & 20% testing data sets\n",
    "from sklearn.model_selection import train_test_split\n",
    "X_train, X_test, y_train, y_test = train_test_split(messages_bow, df['label'], test_size = 0.20, random_state = 0)"
   ]
  },
  {
   "cell_type": "code",
   "execution_count": 15,
   "metadata": {},
   "outputs": [
    {
     "data": {
      "text/plain": [
       "(4993, 50381)"
      ]
     },
     "execution_count": 15,
     "metadata": {},
     "output_type": "execute_result"
    }
   ],
   "source": [
    "#Get the shape of messages_bow\n",
    "messages_bow.shape"
   ]
  },
  {
   "cell_type": "code",
   "execution_count": 16,
   "metadata": {},
   "outputs": [
    {
     "data": {
      "text/plain": [
       "MultinomialNB(alpha=1.0, class_prior=None, fit_prior=True)"
      ]
     },
     "execution_count": 16,
     "metadata": {},
     "output_type": "execute_result"
    }
   ],
   "source": [
    "from sklearn.naive_bayes import MultinomialNB\n",
    "classifier = MultinomialNB()\n",
    "classifier.fit(X_train, y_train)"
   ]
  },
  {
   "cell_type": "code",
   "execution_count": 17,
   "metadata": {},
   "outputs": [
    {
     "name": "stdout",
     "output_type": "stream",
     "text": [
      "['spam' 'nonSpam' 'spam' ... 'nonSpam' 'nonSpam' 'spam']\n",
      "['spam' 'nonSpam' 'spam' ... 'nonSpam' 'nonSpam' 'spam']\n"
     ]
    }
   ],
   "source": [
    "#Print the predictions\n",
    "print(classifier.predict(X_train))\n",
    "#Print the actual values\n",
    "print(y_train.values)"
   ]
  },
  {
   "cell_type": "code",
   "execution_count": 18,
   "metadata": {},
   "outputs": [
    {
     "name": "stdout",
     "output_type": "stream",
     "text": [
      "              precision    recall  f1-score   support\n",
      "\n",
      "     nonSpam       1.00      0.99      0.99      2809\n",
      "        spam       0.98      0.99      0.99      1185\n",
      "\n",
      "    accuracy                           0.99      3994\n",
      "   macro avg       0.99      0.99      0.99      3994\n",
      "weighted avg       0.99      0.99      0.99      3994\n",
      "\n",
      "Confusion Matrix: \n",
      " [[2787   22]\n",
      " [  13 1172]]\n",
      "\n",
      "Accuracy:  0.9912368552829244\n"
     ]
    }
   ],
   "source": [
    "#Evaluate the model on the training data set\n",
    "from sklearn.metrics import classification_report,confusion_matrix, accuracy_score\n",
    "pred = classifier.predict(X_train)\n",
    "print(classification_report(y_train ,pred ))\n",
    "print('Confusion Matrix: \\n',confusion_matrix(y_train,pred))\n",
    "print()\n",
    "print('Accuracy: ', accuracy_score(y_train,pred))\n"
   ]
  },
  {
   "cell_type": "code",
   "execution_count": 19,
   "metadata": {},
   "outputs": [
    {
     "name": "stdout",
     "output_type": "stream",
     "text": [
      "Predicted value:  ['nonSpam' 'nonSpam' 'nonSpam' 'nonSpam' 'nonSpam' 'nonSpam' 'spam'\n",
      " 'nonSpam' 'nonSpam' 'nonSpam' 'nonSpam' 'nonSpam' 'spam' 'nonSpam'\n",
      " 'nonSpam' 'nonSpam' 'nonSpam' 'spam' 'nonSpam' 'nonSpam' 'spam' 'nonSpam'\n",
      " 'nonSpam' 'spam' 'spam' 'nonSpam' 'nonSpam' 'nonSpam' 'nonSpam' 'spam'\n",
      " 'nonSpam' 'spam' 'spam' 'spam' 'nonSpam' 'spam' 'spam' 'nonSpam'\n",
      " 'nonSpam' 'nonSpam' 'nonSpam' 'spam' 'nonSpam' 'spam' 'nonSpam' 'spam'\n",
      " 'nonSpam' 'nonSpam' 'nonSpam' 'spam' 'spam' 'nonSpam' 'nonSpam' 'nonSpam'\n",
      " 'nonSpam' 'nonSpam' 'spam' 'nonSpam' 'nonSpam' 'spam' 'nonSpam' 'nonSpam'\n",
      " 'spam' 'nonSpam' 'nonSpam' 'nonSpam' 'spam' 'spam' 'nonSpam' 'nonSpam'\n",
      " 'spam' 'spam' 'spam' 'nonSpam' 'nonSpam' 'nonSpam' 'nonSpam' 'nonSpam'\n",
      " 'nonSpam' 'spam' 'nonSpam' 'nonSpam' 'nonSpam' 'nonSpam' 'spam' 'nonSpam'\n",
      " 'nonSpam' 'nonSpam' 'spam' 'nonSpam' 'nonSpam' 'nonSpam' 'nonSpam'\n",
      " 'nonSpam' 'spam' 'nonSpam' 'nonSpam' 'spam' 'nonSpam' 'nonSpam' 'nonSpam'\n",
      " 'spam' 'spam' 'nonSpam' 'nonSpam' 'nonSpam' 'nonSpam' 'nonSpam' 'nonSpam'\n",
      " 'spam' 'nonSpam' 'nonSpam' 'nonSpam' 'spam' 'nonSpam' 'nonSpam' 'spam'\n",
      " 'nonSpam' 'nonSpam' 'nonSpam' 'nonSpam' 'nonSpam' 'nonSpam' 'nonSpam'\n",
      " 'spam' 'nonSpam' 'nonSpam' 'spam' 'spam' 'nonSpam' 'nonSpam' 'spam'\n",
      " 'spam' 'nonSpam' 'nonSpam' 'spam' 'nonSpam' 'nonSpam' 'spam' 'nonSpam'\n",
      " 'spam' 'spam' 'nonSpam' 'spam' 'nonSpam' 'spam' 'nonSpam' 'nonSpam'\n",
      " 'nonSpam' 'nonSpam' 'spam' 'nonSpam' 'spam' 'nonSpam' 'spam' 'spam'\n",
      " 'spam' 'nonSpam' 'nonSpam' 'spam' 'nonSpam' 'nonSpam' 'spam' 'nonSpam'\n",
      " 'nonSpam' 'nonSpam' 'nonSpam' 'nonSpam' 'nonSpam' 'nonSpam' 'nonSpam'\n",
      " 'nonSpam' 'nonSpam' 'nonSpam' 'nonSpam' 'nonSpam' 'nonSpam' 'spam'\n",
      " 'nonSpam' 'spam' 'nonSpam' 'spam' 'nonSpam' 'nonSpam' 'spam' 'nonSpam'\n",
      " 'nonSpam' 'nonSpam' 'nonSpam' 'nonSpam' 'nonSpam' 'nonSpam' 'nonSpam'\n",
      " 'nonSpam' 'nonSpam' 'nonSpam' 'nonSpam' 'spam' 'nonSpam' 'spam' 'nonSpam'\n",
      " 'nonSpam' 'nonSpam' 'spam' 'nonSpam' 'nonSpam' 'nonSpam' 'nonSpam'\n",
      " 'nonSpam' 'nonSpam' 'nonSpam' 'spam' 'nonSpam' 'nonSpam' 'nonSpam'\n",
      " 'nonSpam' 'nonSpam' 'nonSpam' 'nonSpam' 'nonSpam' 'nonSpam' 'nonSpam'\n",
      " 'spam' 'spam' 'nonSpam' 'spam' 'nonSpam' 'spam' 'spam' 'nonSpam'\n",
      " 'nonSpam' 'nonSpam' 'nonSpam' 'nonSpam' 'nonSpam' 'nonSpam' 'nonSpam'\n",
      " 'nonSpam' 'nonSpam' 'spam' 'nonSpam' 'nonSpam' 'spam' 'nonSpam' 'nonSpam'\n",
      " 'spam' 'nonSpam' 'nonSpam' 'spam' 'nonSpam' 'nonSpam' 'nonSpam' 'nonSpam'\n",
      " 'nonSpam' 'spam' 'nonSpam' 'nonSpam' 'nonSpam' 'nonSpam' 'spam' 'nonSpam'\n",
      " 'nonSpam' 'nonSpam' 'spam' 'spam' 'nonSpam' 'spam' 'spam' 'nonSpam'\n",
      " 'spam' 'nonSpam' 'nonSpam' 'nonSpam' 'nonSpam' 'spam' 'nonSpam' 'nonSpam'\n",
      " 'nonSpam' 'spam' 'nonSpam' 'spam' 'nonSpam' 'nonSpam' 'nonSpam' 'nonSpam'\n",
      " 'nonSpam' 'nonSpam' 'nonSpam' 'spam' 'nonSpam' 'nonSpam' 'nonSpam'\n",
      " 'nonSpam' 'nonSpam' 'nonSpam' 'nonSpam' 'nonSpam' 'nonSpam' 'nonSpam'\n",
      " 'nonSpam' 'nonSpam' 'nonSpam' 'spam' 'nonSpam' 'nonSpam' 'nonSpam'\n",
      " 'nonSpam' 'nonSpam' 'nonSpam' 'spam' 'nonSpam' 'nonSpam' 'nonSpam'\n",
      " 'nonSpam' 'spam' 'nonSpam' 'nonSpam' 'nonSpam' 'spam' 'nonSpam' 'nonSpam'\n",
      " 'nonSpam' 'nonSpam' 'nonSpam' 'spam' 'spam' 'nonSpam' 'nonSpam' 'nonSpam'\n",
      " 'nonSpam' 'nonSpam' 'spam' 'nonSpam' 'nonSpam' 'spam' 'nonSpam' 'nonSpam'\n",
      " 'nonSpam' 'nonSpam' 'nonSpam' 'nonSpam' 'spam' 'nonSpam' 'nonSpam'\n",
      " 'nonSpam' 'nonSpam' 'nonSpam' 'nonSpam' 'nonSpam' 'nonSpam' 'nonSpam'\n",
      " 'nonSpam' 'nonSpam' 'nonSpam' 'nonSpam' 'nonSpam' 'nonSpam' 'nonSpam'\n",
      " 'spam' 'nonSpam' 'nonSpam' 'nonSpam' 'nonSpam' 'nonSpam' 'nonSpam' 'spam'\n",
      " 'nonSpam' 'nonSpam' 'nonSpam' 'spam' 'nonSpam' 'nonSpam' 'nonSpam'\n",
      " 'nonSpam' 'nonSpam' 'spam' 'spam' 'nonSpam' 'nonSpam' 'spam' 'spam'\n",
      " 'spam' 'nonSpam' 'spam' 'nonSpam' 'nonSpam' 'nonSpam' 'nonSpam' 'nonSpam'\n",
      " 'nonSpam' 'nonSpam' 'spam' 'nonSpam' 'spam' 'spam' 'nonSpam' 'spam'\n",
      " 'spam' 'spam' 'nonSpam' 'nonSpam' 'nonSpam' 'spam' 'nonSpam' 'spam'\n",
      " 'nonSpam' 'nonSpam' 'spam' 'nonSpam' 'nonSpam' 'spam' 'nonSpam' 'nonSpam'\n",
      " 'nonSpam' 'nonSpam' 'nonSpam' 'nonSpam' 'nonSpam' 'nonSpam' 'nonSpam'\n",
      " 'nonSpam' 'spam' 'nonSpam' 'nonSpam' 'spam' 'nonSpam' 'nonSpam' 'nonSpam'\n",
      " 'nonSpam' 'nonSpam' 'nonSpam' 'spam' 'spam' 'nonSpam' 'nonSpam' 'nonSpam'\n",
      " 'nonSpam' 'nonSpam' 'spam' 'nonSpam' 'nonSpam' 'spam' 'nonSpam' 'spam'\n",
      " 'nonSpam' 'nonSpam' 'spam' 'nonSpam' 'nonSpam' 'spam' 'spam' 'spam'\n",
      " 'nonSpam' 'nonSpam' 'nonSpam' 'nonSpam' 'spam' 'nonSpam' 'nonSpam'\n",
      " 'nonSpam' 'nonSpam' 'nonSpam' 'nonSpam' 'nonSpam' 'nonSpam' 'nonSpam'\n",
      " 'spam' 'spam' 'nonSpam' 'spam' 'nonSpam' 'nonSpam' 'nonSpam' 'nonSpam'\n",
      " 'nonSpam' 'nonSpam' 'nonSpam' 'nonSpam' 'nonSpam' 'nonSpam' 'nonSpam'\n",
      " 'nonSpam' 'nonSpam' 'nonSpam' 'nonSpam' 'nonSpam' 'nonSpam' 'nonSpam'\n",
      " 'nonSpam' 'spam' 'nonSpam' 'nonSpam' 'nonSpam' 'spam' 'spam' 'nonSpam'\n",
      " 'spam' 'nonSpam' 'nonSpam' 'nonSpam' 'nonSpam' 'nonSpam' 'nonSpam'\n",
      " 'nonSpam' 'nonSpam' 'nonSpam' 'nonSpam' 'spam' 'nonSpam' 'spam' 'nonSpam'\n",
      " 'spam' 'nonSpam' 'spam' 'nonSpam' 'nonSpam' 'nonSpam' 'nonSpam' 'spam'\n",
      " 'nonSpam' 'nonSpam' 'nonSpam' 'nonSpam' 'nonSpam' 'nonSpam' 'nonSpam'\n",
      " 'nonSpam' 'spam' 'nonSpam' 'nonSpam' 'nonSpam' 'spam' 'nonSpam' 'spam'\n",
      " 'nonSpam' 'nonSpam' 'nonSpam' 'nonSpam' 'nonSpam' 'nonSpam' 'nonSpam'\n",
      " 'spam' 'spam' 'spam' 'nonSpam' 'nonSpam' 'nonSpam' 'nonSpam' 'nonSpam'\n",
      " 'nonSpam' 'nonSpam' 'nonSpam' 'spam' 'spam' 'nonSpam' 'nonSpam' 'spam'\n",
      " 'spam' 'spam' 'nonSpam' 'nonSpam' 'nonSpam' 'spam' 'nonSpam' 'nonSpam'\n",
      " 'spam' 'nonSpam' 'nonSpam' 'nonSpam' 'nonSpam' 'nonSpam' 'nonSpam' 'spam'\n",
      " 'nonSpam' 'nonSpam' 'nonSpam' 'spam' 'nonSpam' 'nonSpam' 'nonSpam' 'spam'\n",
      " 'nonSpam' 'nonSpam' 'nonSpam' 'nonSpam' 'spam' 'nonSpam' 'nonSpam'\n",
      " 'nonSpam' 'spam' 'nonSpam' 'nonSpam' 'nonSpam' 'spam' 'nonSpam' 'spam'\n",
      " 'nonSpam' 'nonSpam' 'spam' 'nonSpam' 'spam' 'nonSpam' 'nonSpam' 'nonSpam'\n",
      " 'nonSpam' 'nonSpam' 'nonSpam' 'spam' 'nonSpam' 'nonSpam' 'spam' 'nonSpam'\n",
      " 'spam' 'spam' 'spam' 'nonSpam' 'nonSpam' 'nonSpam' 'nonSpam' 'nonSpam'\n",
      " 'spam' 'spam' 'nonSpam' 'nonSpam' 'nonSpam' 'nonSpam' 'nonSpam' 'nonSpam'\n",
      " 'nonSpam' 'nonSpam' 'spam' 'spam' 'nonSpam' 'nonSpam' 'spam' 'nonSpam'\n",
      " 'nonSpam' 'nonSpam' 'nonSpam' 'spam' 'nonSpam' 'nonSpam' 'nonSpam'\n",
      " 'nonSpam' 'nonSpam' 'spam' 'nonSpam' 'spam' 'spam' 'nonSpam' 'nonSpam'\n",
      " 'nonSpam' 'nonSpam' 'spam' 'spam' 'nonSpam' 'nonSpam' 'spam' 'nonSpam'\n",
      " 'spam' 'nonSpam' 'nonSpam' 'nonSpam' 'nonSpam' 'nonSpam' 'nonSpam'\n",
      " 'nonSpam' 'nonSpam' 'nonSpam' 'nonSpam' 'spam' 'nonSpam' 'spam' 'nonSpam'\n",
      " 'spam' 'spam' 'nonSpam' 'nonSpam' 'nonSpam' 'nonSpam' 'nonSpam' 'nonSpam'\n",
      " 'nonSpam' 'nonSpam' 'nonSpam' 'spam' 'nonSpam' 'nonSpam' 'nonSpam' 'spam'\n",
      " 'spam' 'spam' 'nonSpam' 'spam' 'nonSpam' 'nonSpam' 'nonSpam' 'spam'\n",
      " 'nonSpam' 'nonSpam' 'nonSpam' 'spam' 'nonSpam' 'spam' 'spam' 'spam'\n",
      " 'nonSpam' 'nonSpam' 'nonSpam' 'nonSpam' 'spam' 'spam' 'nonSpam' 'spam'\n",
      " 'nonSpam' 'nonSpam' 'nonSpam' 'nonSpam' 'nonSpam' 'spam' 'spam' 'spam'\n",
      " 'spam' 'nonSpam' 'nonSpam' 'nonSpam' 'nonSpam' 'nonSpam' 'nonSpam'\n",
      " 'nonSpam' 'nonSpam' 'nonSpam' 'nonSpam' 'nonSpam' 'nonSpam' 'spam'\n",
      " 'nonSpam' 'nonSpam' 'nonSpam' 'nonSpam' 'nonSpam' 'nonSpam' 'spam'\n",
      " 'nonSpam' 'nonSpam' 'spam' 'nonSpam' 'spam' 'nonSpam' 'nonSpam' 'nonSpam'\n",
      " 'nonSpam' 'spam' 'nonSpam' 'nonSpam' 'nonSpam' 'nonSpam' 'spam' 'nonSpam'\n",
      " 'spam' 'nonSpam' 'spam' 'nonSpam' 'nonSpam' 'nonSpam' 'spam' 'nonSpam'\n",
      " 'spam' 'nonSpam' 'nonSpam' 'nonSpam' 'nonSpam' 'nonSpam' 'spam' 'nonSpam'\n",
      " 'spam' 'nonSpam' 'nonSpam' 'spam' 'nonSpam' 'spam' 'nonSpam' 'nonSpam'\n",
      " 'nonSpam' 'nonSpam' 'nonSpam' 'nonSpam' 'nonSpam' 'nonSpam' 'spam' 'spam'\n",
      " 'spam' 'nonSpam' 'nonSpam' 'spam' 'nonSpam' 'nonSpam' 'nonSpam' 'spam'\n",
      " 'nonSpam' 'nonSpam' 'spam' 'nonSpam' 'nonSpam' 'nonSpam' 'nonSpam'\n",
      " 'nonSpam' 'nonSpam' 'spam' 'spam' 'nonSpam' 'nonSpam' 'nonSpam' 'nonSpam'\n",
      " 'nonSpam' 'nonSpam' 'nonSpam' 'nonSpam' 'nonSpam' 'spam' 'nonSpam'\n",
      " 'nonSpam' 'nonSpam' 'nonSpam' 'spam' 'nonSpam' 'spam' 'nonSpam' 'spam'\n",
      " 'nonSpam' 'spam' 'spam' 'spam' 'nonSpam' 'nonSpam' 'nonSpam' 'nonSpam'\n",
      " 'nonSpam' 'nonSpam' 'spam' 'spam' 'spam' 'nonSpam' 'nonSpam' 'nonSpam'\n",
      " 'nonSpam' 'nonSpam' 'nonSpam' 'spam' 'nonSpam' 'nonSpam' 'spam' 'spam'\n",
      " 'spam' 'nonSpam' 'nonSpam' 'nonSpam' 'spam' 'nonSpam' 'nonSpam' 'nonSpam'\n",
      " 'spam' 'nonSpam' 'nonSpam' 'spam' 'spam' 'spam' 'spam' 'spam' 'nonSpam'\n",
      " 'nonSpam' 'nonSpam' 'nonSpam' 'nonSpam' 'nonSpam' 'nonSpam' 'nonSpam'\n",
      " 'nonSpam' 'nonSpam' 'nonSpam' 'spam' 'nonSpam' 'spam' 'spam' 'spam'\n",
      " 'nonSpam' 'spam' 'nonSpam' 'nonSpam' 'spam' 'nonSpam' 'nonSpam' 'nonSpam'\n",
      " 'spam' 'nonSpam' 'spam' 'nonSpam' 'spam' 'nonSpam' 'nonSpam' 'spam'\n",
      " 'spam' 'nonSpam' 'spam' 'nonSpam' 'nonSpam' 'nonSpam' 'nonSpam' 'spam'\n",
      " 'nonSpam' 'nonSpam' 'nonSpam' 'nonSpam' 'nonSpam' 'nonSpam' 'nonSpam'\n",
      " 'nonSpam' 'nonSpam' 'spam' 'nonSpam' 'nonSpam' 'nonSpam' 'nonSpam'\n",
      " 'nonSpam' 'nonSpam' 'spam' 'nonSpam' 'spam' 'nonSpam' 'spam' 'nonSpam'\n",
      " 'nonSpam' 'nonSpam' 'spam' 'spam' 'spam' 'nonSpam' 'spam' 'spam' 'spam'\n",
      " 'nonSpam' 'nonSpam' 'spam' 'spam' 'nonSpam' 'nonSpam' 'nonSpam' 'nonSpam'\n",
      " 'nonSpam' 'nonSpam' 'nonSpam' 'spam' 'spam' 'nonSpam' 'nonSpam' 'nonSpam'\n",
      " 'nonSpam' 'spam' 'nonSpam' 'spam' 'nonSpam' 'spam' 'nonSpam' 'spam'\n",
      " 'nonSpam' 'nonSpam' 'nonSpam' 'nonSpam' 'spam' 'nonSpam' 'nonSpam'\n",
      " 'nonSpam' 'nonSpam' 'nonSpam' 'spam' 'nonSpam' 'spam' 'nonSpam' 'nonSpam'\n",
      " 'spam' 'nonSpam' 'nonSpam' 'nonSpam' 'nonSpam' 'nonSpam' 'spam' 'spam'\n",
      " 'nonSpam' 'nonSpam' 'nonSpam' 'nonSpam' 'spam' 'nonSpam' 'spam' 'nonSpam'\n",
      " 'spam' 'spam' 'spam' 'nonSpam']\n",
      "Actual value:  ['nonSpam' 'nonSpam' 'nonSpam' 'nonSpam' 'nonSpam' 'nonSpam' 'spam'\n",
      " 'nonSpam' 'nonSpam' 'nonSpam' 'nonSpam' 'nonSpam' 'spam' 'nonSpam'\n",
      " 'nonSpam' 'nonSpam' 'nonSpam' 'spam' 'nonSpam' 'nonSpam' 'spam' 'nonSpam'\n",
      " 'nonSpam' 'spam' 'spam' 'nonSpam' 'nonSpam' 'nonSpam' 'nonSpam' 'spam'\n",
      " 'nonSpam' 'nonSpam' 'spam' 'spam' 'nonSpam' 'spam' 'spam' 'nonSpam'\n",
      " 'nonSpam' 'nonSpam' 'nonSpam' 'spam' 'nonSpam' 'spam' 'nonSpam' 'spam'\n",
      " 'nonSpam' 'nonSpam' 'nonSpam' 'spam' 'spam' 'nonSpam' 'nonSpam' 'nonSpam'\n",
      " 'nonSpam' 'nonSpam' 'spam' 'nonSpam' 'nonSpam' 'spam' 'nonSpam' 'nonSpam'\n",
      " 'spam' 'nonSpam' 'nonSpam' 'nonSpam' 'spam' 'spam' 'nonSpam' 'nonSpam'\n",
      " 'spam' 'spam' 'spam' 'nonSpam' 'nonSpam' 'nonSpam' 'nonSpam' 'nonSpam'\n",
      " 'nonSpam' 'spam' 'nonSpam' 'nonSpam' 'nonSpam' 'nonSpam' 'spam' 'nonSpam'\n",
      " 'nonSpam' 'nonSpam' 'spam' 'nonSpam' 'nonSpam' 'nonSpam' 'nonSpam'\n",
      " 'nonSpam' 'spam' 'nonSpam' 'nonSpam' 'spam' 'nonSpam' 'nonSpam' 'nonSpam'\n",
      " 'spam' 'spam' 'nonSpam' 'nonSpam' 'nonSpam' 'nonSpam' 'nonSpam' 'nonSpam'\n",
      " 'spam' 'nonSpam' 'nonSpam' 'nonSpam' 'spam' 'nonSpam' 'nonSpam' 'spam'\n",
      " 'nonSpam' 'nonSpam' 'nonSpam' 'nonSpam' 'nonSpam' 'nonSpam' 'nonSpam'\n",
      " 'spam' 'nonSpam' 'nonSpam' 'spam' 'spam' 'nonSpam' 'nonSpam' 'spam'\n",
      " 'spam' 'nonSpam' 'nonSpam' 'spam' 'nonSpam' 'nonSpam' 'spam' 'nonSpam'\n",
      " 'spam' 'spam' 'nonSpam' 'spam' 'nonSpam' 'spam' 'nonSpam' 'nonSpam'\n",
      " 'nonSpam' 'nonSpam' 'spam' 'nonSpam' 'spam' 'nonSpam' 'spam' 'spam'\n",
      " 'spam' 'nonSpam' 'nonSpam' 'spam' 'nonSpam' 'nonSpam' 'spam' 'nonSpam'\n",
      " 'nonSpam' 'nonSpam' 'nonSpam' 'nonSpam' 'nonSpam' 'nonSpam' 'nonSpam'\n",
      " 'nonSpam' 'nonSpam' 'nonSpam' 'nonSpam' 'nonSpam' 'nonSpam' 'spam'\n",
      " 'nonSpam' 'spam' 'nonSpam' 'spam' 'nonSpam' 'nonSpam' 'spam' 'nonSpam'\n",
      " 'nonSpam' 'nonSpam' 'nonSpam' 'nonSpam' 'spam' 'nonSpam' 'nonSpam'\n",
      " 'nonSpam' 'nonSpam' 'nonSpam' 'nonSpam' 'spam' 'nonSpam' 'spam' 'nonSpam'\n",
      " 'nonSpam' 'nonSpam' 'spam' 'nonSpam' 'nonSpam' 'nonSpam' 'nonSpam'\n",
      " 'nonSpam' 'nonSpam' 'nonSpam' 'spam' 'nonSpam' 'nonSpam' 'nonSpam'\n",
      " 'nonSpam' 'nonSpam' 'nonSpam' 'nonSpam' 'nonSpam' 'nonSpam' 'nonSpam'\n",
      " 'nonSpam' 'spam' 'nonSpam' 'spam' 'nonSpam' 'spam' 'spam' 'nonSpam'\n",
      " 'nonSpam' 'nonSpam' 'spam' 'nonSpam' 'nonSpam' 'spam' 'nonSpam' 'nonSpam'\n",
      " 'nonSpam' 'spam' 'nonSpam' 'nonSpam' 'spam' 'nonSpam' 'nonSpam' 'spam'\n",
      " 'nonSpam' 'nonSpam' 'spam' 'nonSpam' 'nonSpam' 'nonSpam' 'nonSpam'\n",
      " 'nonSpam' 'spam' 'nonSpam' 'nonSpam' 'nonSpam' 'nonSpam' 'spam' 'nonSpam'\n",
      " 'nonSpam' 'nonSpam' 'spam' 'spam' 'nonSpam' 'spam' 'spam' 'nonSpam'\n",
      " 'spam' 'nonSpam' 'nonSpam' 'nonSpam' 'nonSpam' 'spam' 'nonSpam' 'nonSpam'\n",
      " 'nonSpam' 'spam' 'nonSpam' 'spam' 'nonSpam' 'nonSpam' 'nonSpam' 'nonSpam'\n",
      " 'nonSpam' 'nonSpam' 'nonSpam' 'spam' 'nonSpam' 'nonSpam' 'nonSpam'\n",
      " 'nonSpam' 'nonSpam' 'nonSpam' 'nonSpam' 'nonSpam' 'nonSpam' 'nonSpam'\n",
      " 'nonSpam' 'nonSpam' 'nonSpam' 'spam' 'nonSpam' 'nonSpam' 'nonSpam'\n",
      " 'nonSpam' 'nonSpam' 'nonSpam' 'spam' 'nonSpam' 'nonSpam' 'nonSpam'\n",
      " 'nonSpam' 'spam' 'nonSpam' 'nonSpam' 'nonSpam' 'spam' 'nonSpam' 'nonSpam'\n",
      " 'nonSpam' 'nonSpam' 'nonSpam' 'spam' 'spam' 'nonSpam' 'nonSpam' 'nonSpam'\n",
      " 'nonSpam' 'nonSpam' 'spam' 'nonSpam' 'nonSpam' 'spam' 'nonSpam' 'nonSpam'\n",
      " 'nonSpam' 'nonSpam' 'nonSpam' 'nonSpam' 'spam' 'nonSpam' 'nonSpam'\n",
      " 'nonSpam' 'nonSpam' 'nonSpam' 'nonSpam' 'nonSpam' 'nonSpam' 'nonSpam'\n",
      " 'nonSpam' 'nonSpam' 'nonSpam' 'nonSpam' 'nonSpam' 'nonSpam' 'nonSpam'\n",
      " 'spam' 'nonSpam' 'nonSpam' 'nonSpam' 'spam' 'nonSpam' 'nonSpam' 'spam'\n",
      " 'nonSpam' 'nonSpam' 'nonSpam' 'spam' 'nonSpam' 'nonSpam' 'nonSpam'\n",
      " 'nonSpam' 'nonSpam' 'spam' 'spam' 'nonSpam' 'nonSpam' 'spam' 'spam'\n",
      " 'spam' 'nonSpam' 'spam' 'nonSpam' 'nonSpam' 'nonSpam' 'nonSpam' 'nonSpam'\n",
      " 'nonSpam' 'nonSpam' 'spam' 'nonSpam' 'spam' 'spam' 'nonSpam' 'spam'\n",
      " 'spam' 'spam' 'nonSpam' 'nonSpam' 'nonSpam' 'spam' 'nonSpam' 'spam'\n",
      " 'nonSpam' 'nonSpam' 'spam' 'nonSpam' 'nonSpam' 'spam' 'nonSpam' 'nonSpam'\n",
      " 'nonSpam' 'nonSpam' 'nonSpam' 'nonSpam' 'nonSpam' 'nonSpam' 'nonSpam'\n",
      " 'nonSpam' 'spam' 'nonSpam' 'nonSpam' 'spam' 'nonSpam' 'nonSpam' 'nonSpam'\n",
      " 'nonSpam' 'nonSpam' 'nonSpam' 'spam' 'spam' 'nonSpam' 'nonSpam' 'nonSpam'\n",
      " 'nonSpam' 'nonSpam' 'spam' 'nonSpam' 'nonSpam' 'spam' 'nonSpam' 'spam'\n",
      " 'nonSpam' 'nonSpam' 'spam' 'nonSpam' 'nonSpam' 'spam' 'spam' 'spam'\n",
      " 'nonSpam' 'nonSpam' 'nonSpam' 'nonSpam' 'nonSpam' 'nonSpam' 'nonSpam'\n",
      " 'nonSpam' 'nonSpam' 'nonSpam' 'nonSpam' 'nonSpam' 'nonSpam' 'nonSpam'\n",
      " 'spam' 'spam' 'nonSpam' 'spam' 'nonSpam' 'nonSpam' 'nonSpam' 'nonSpam'\n",
      " 'nonSpam' 'nonSpam' 'nonSpam' 'nonSpam' 'nonSpam' 'nonSpam' 'nonSpam'\n",
      " 'nonSpam' 'nonSpam' 'nonSpam' 'nonSpam' 'nonSpam' 'nonSpam' 'nonSpam'\n",
      " 'nonSpam' 'spam' 'nonSpam' 'nonSpam' 'nonSpam' 'spam' 'spam' 'nonSpam'\n",
      " 'spam' 'nonSpam' 'nonSpam' 'nonSpam' 'nonSpam' 'nonSpam' 'nonSpam'\n",
      " 'nonSpam' 'nonSpam' 'nonSpam' 'nonSpam' 'nonSpam' 'nonSpam' 'spam'\n",
      " 'nonSpam' 'spam' 'nonSpam' 'spam' 'nonSpam' 'nonSpam' 'nonSpam' 'spam'\n",
      " 'spam' 'nonSpam' 'nonSpam' 'nonSpam' 'nonSpam' 'nonSpam' 'nonSpam'\n",
      " 'nonSpam' 'nonSpam' 'spam' 'nonSpam' 'nonSpam' 'nonSpam' 'spam' 'nonSpam'\n",
      " 'spam' 'nonSpam' 'nonSpam' 'nonSpam' 'nonSpam' 'nonSpam' 'nonSpam'\n",
      " 'nonSpam' 'spam' 'spam' 'spam' 'nonSpam' 'nonSpam' 'nonSpam' 'nonSpam'\n",
      " 'nonSpam' 'nonSpam' 'nonSpam' 'nonSpam' 'spam' 'spam' 'nonSpam' 'nonSpam'\n",
      " 'spam' 'nonSpam' 'spam' 'nonSpam' 'nonSpam' 'nonSpam' 'spam' 'nonSpam'\n",
      " 'nonSpam' 'nonSpam' 'nonSpam' 'nonSpam' 'nonSpam' 'nonSpam' 'nonSpam'\n",
      " 'nonSpam' 'spam' 'nonSpam' 'nonSpam' 'nonSpam' 'spam' 'nonSpam' 'nonSpam'\n",
      " 'nonSpam' 'spam' 'nonSpam' 'nonSpam' 'spam' 'nonSpam' 'spam' 'nonSpam'\n",
      " 'spam' 'nonSpam' 'spam' 'nonSpam' 'nonSpam' 'spam' 'spam' 'nonSpam'\n",
      " 'spam' 'nonSpam' 'nonSpam' 'spam' 'nonSpam' 'nonSpam' 'nonSpam' 'nonSpam'\n",
      " 'nonSpam' 'nonSpam' 'nonSpam' 'nonSpam' 'spam' 'nonSpam' 'nonSpam' 'spam'\n",
      " 'nonSpam' 'spam' 'spam' 'spam' 'nonSpam' 'nonSpam' 'nonSpam' 'nonSpam'\n",
      " 'nonSpam' 'spam' 'spam' 'nonSpam' 'nonSpam' 'nonSpam' 'nonSpam' 'nonSpam'\n",
      " 'nonSpam' 'nonSpam' 'nonSpam' 'spam' 'spam' 'nonSpam' 'nonSpam' 'spam'\n",
      " 'nonSpam' 'nonSpam' 'nonSpam' 'nonSpam' 'spam' 'nonSpam' 'nonSpam'\n",
      " 'nonSpam' 'nonSpam' 'nonSpam' 'spam' 'nonSpam' 'spam' 'spam' 'nonSpam'\n",
      " 'nonSpam' 'nonSpam' 'nonSpam' 'spam' 'spam' 'nonSpam' 'nonSpam' 'spam'\n",
      " 'nonSpam' 'spam' 'nonSpam' 'nonSpam' 'nonSpam' 'nonSpam' 'nonSpam'\n",
      " 'nonSpam' 'nonSpam' 'nonSpam' 'nonSpam' 'nonSpam' 'spam' 'nonSpam' 'spam'\n",
      " 'nonSpam' 'spam' 'spam' 'nonSpam' 'nonSpam' 'nonSpam' 'nonSpam' 'nonSpam'\n",
      " 'nonSpam' 'nonSpam' 'nonSpam' 'nonSpam' 'spam' 'nonSpam' 'nonSpam'\n",
      " 'nonSpam' 'spam' 'spam' 'spam' 'nonSpam' 'spam' 'nonSpam' 'nonSpam'\n",
      " 'nonSpam' 'spam' 'nonSpam' 'nonSpam' 'nonSpam' 'spam' 'nonSpam' 'spam'\n",
      " 'spam' 'spam' 'nonSpam' 'nonSpam' 'nonSpam' 'nonSpam' 'spam' 'spam'\n",
      " 'nonSpam' 'spam' 'nonSpam' 'nonSpam' 'nonSpam' 'spam' 'nonSpam' 'nonSpam'\n",
      " 'nonSpam' 'spam' 'spam' 'nonSpam' 'nonSpam' 'nonSpam' 'nonSpam' 'nonSpam'\n",
      " 'nonSpam' 'nonSpam' 'nonSpam' 'nonSpam' 'nonSpam' 'nonSpam' 'nonSpam'\n",
      " 'spam' 'nonSpam' 'nonSpam' 'nonSpam' 'nonSpam' 'nonSpam' 'nonSpam' 'spam'\n",
      " 'nonSpam' 'nonSpam' 'spam' 'nonSpam' 'spam' 'nonSpam' 'nonSpam' 'nonSpam'\n",
      " 'nonSpam' 'spam' 'nonSpam' 'nonSpam' 'nonSpam' 'nonSpam' 'spam' 'nonSpam'\n",
      " 'spam' 'nonSpam' 'spam' 'nonSpam' 'nonSpam' 'nonSpam' 'nonSpam' 'nonSpam'\n",
      " 'spam' 'nonSpam' 'nonSpam' 'nonSpam' 'nonSpam' 'nonSpam' 'spam' 'nonSpam'\n",
      " 'spam' 'nonSpam' 'nonSpam' 'spam' 'nonSpam' 'spam' 'nonSpam' 'nonSpam'\n",
      " 'nonSpam' 'nonSpam' 'nonSpam' 'nonSpam' 'nonSpam' 'nonSpam' 'nonSpam'\n",
      " 'spam' 'spam' 'nonSpam' 'nonSpam' 'spam' 'nonSpam' 'nonSpam' 'nonSpam'\n",
      " 'spam' 'nonSpam' 'nonSpam' 'spam' 'nonSpam' 'nonSpam' 'nonSpam' 'spam'\n",
      " 'nonSpam' 'nonSpam' 'spam' 'spam' 'nonSpam' 'nonSpam' 'nonSpam' 'nonSpam'\n",
      " 'nonSpam' 'nonSpam' 'nonSpam' 'nonSpam' 'nonSpam' 'spam' 'nonSpam'\n",
      " 'nonSpam' 'nonSpam' 'nonSpam' 'spam' 'nonSpam' 'spam' 'nonSpam' 'spam'\n",
      " 'nonSpam' 'spam' 'spam' 'spam' 'nonSpam' 'nonSpam' 'nonSpam' 'nonSpam'\n",
      " 'nonSpam' 'nonSpam' 'spam' 'spam' 'spam' 'nonSpam' 'nonSpam' 'nonSpam'\n",
      " 'nonSpam' 'nonSpam' 'nonSpam' 'spam' 'nonSpam' 'nonSpam' 'spam' 'spam'\n",
      " 'spam' 'nonSpam' 'nonSpam' 'nonSpam' 'spam' 'nonSpam' 'nonSpam' 'nonSpam'\n",
      " 'spam' 'nonSpam' 'nonSpam' 'spam' 'spam' 'spam' 'spam' 'spam' 'nonSpam'\n",
      " 'nonSpam' 'nonSpam' 'nonSpam' 'nonSpam' 'nonSpam' 'nonSpam' 'nonSpam'\n",
      " 'nonSpam' 'spam' 'nonSpam' 'spam' 'nonSpam' 'spam' 'nonSpam' 'spam'\n",
      " 'nonSpam' 'spam' 'nonSpam' 'nonSpam' 'spam' 'nonSpam' 'nonSpam' 'nonSpam'\n",
      " 'spam' 'nonSpam' 'spam' 'nonSpam' 'spam' 'nonSpam' 'nonSpam' 'spam'\n",
      " 'spam' 'nonSpam' 'spam' 'nonSpam' 'nonSpam' 'nonSpam' 'nonSpam' 'spam'\n",
      " 'nonSpam' 'nonSpam' 'nonSpam' 'nonSpam' 'nonSpam' 'nonSpam' 'nonSpam'\n",
      " 'nonSpam' 'nonSpam' 'spam' 'nonSpam' 'nonSpam' 'nonSpam' 'nonSpam'\n",
      " 'nonSpam' 'nonSpam' 'spam' 'nonSpam' 'spam' 'nonSpam' 'spam' 'nonSpam'\n",
      " 'nonSpam' 'nonSpam' 'spam' 'spam' 'spam' 'nonSpam' 'spam' 'spam' 'spam'\n",
      " 'nonSpam' 'nonSpam' 'spam' 'spam' 'nonSpam' 'nonSpam' 'nonSpam' 'nonSpam'\n",
      " 'nonSpam' 'nonSpam' 'nonSpam' 'spam' 'spam' 'nonSpam' 'nonSpam' 'nonSpam'\n",
      " 'nonSpam' 'spam' 'nonSpam' 'spam' 'nonSpam' 'spam' 'nonSpam' 'spam'\n",
      " 'nonSpam' 'nonSpam' 'nonSpam' 'nonSpam' 'nonSpam' 'nonSpam' 'nonSpam'\n",
      " 'nonSpam' 'nonSpam' 'nonSpam' 'spam' 'nonSpam' 'spam' 'nonSpam' 'nonSpam'\n",
      " 'spam' 'nonSpam' 'nonSpam' 'nonSpam' 'nonSpam' 'nonSpam' 'spam' 'spam'\n",
      " 'nonSpam' 'nonSpam' 'nonSpam' 'nonSpam' 'spam' 'nonSpam' 'spam' 'nonSpam'\n",
      " 'spam' 'spam' 'spam' 'nonSpam']\n"
     ]
    }
   ],
   "source": [
    "#Print the predictions\n",
    "print('Predicted value: ',classifier.predict(X_test))\n",
    "#Print Actual Label\n",
    "print('Actual value: ',y_test.values)"
   ]
  },
  {
   "cell_type": "code",
   "execution_count": 20,
   "metadata": {},
   "outputs": [
    {
     "name": "stdout",
     "output_type": "stream",
     "text": [
      "              precision    recall  f1-score   support\n",
      "\n",
      "     nonSpam       0.98      0.98      0.98       722\n",
      "        spam       0.95      0.96      0.96       277\n",
      "\n",
      "    accuracy                           0.98       999\n",
      "   macro avg       0.97      0.97      0.97       999\n",
      "weighted avg       0.98      0.98      0.98       999\n",
      "\n",
      "Confusion Matrix: \n",
      " [[709  13]\n",
      " [ 11 266]]\n",
      "\n",
      "Accuracy:  0.975975975975976\n"
     ]
    }
   ],
   "source": [
    "#Evaluate the model on the test data set\n",
    "from sklearn.metrics import classification_report,confusion_matrix, accuracy_score\n",
    "pred = classifier.predict(X_test)\n",
    "print(classification_report(y_test ,pred ))\n",
    "print('Confusion Matrix: \\n', confusion_matrix(y_test,pred))\n",
    "print()\n",
    "print('Accuracy: ', accuracy_score(y_test,pred))"
   ]
  }
 ],
 "metadata": {
  "kernelspec": {
   "display_name": "Python 3",
   "language": "python",
   "name": "python3"
  },
  "language_info": {
   "codemirror_mode": {
    "name": "ipython",
    "version": 3
   },
   "file_extension": ".py",
   "mimetype": "text/x-python",
   "name": "python",
   "nbconvert_exporter": "python",
   "pygments_lexer": "ipython3",
   "version": "3.7.6"
  }
 },
 "nbformat": 4,
 "nbformat_minor": 4
}
