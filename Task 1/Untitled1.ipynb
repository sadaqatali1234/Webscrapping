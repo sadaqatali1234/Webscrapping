{
 "cells": [
  {
   "cell_type": "code",
   "execution_count": null,
   "metadata": {},
   "outputs": [],
   "source": [
    "# importing all libariries pandas,numpy,matpoltlib\n",
    "import pandas as pd\n",
    "import numpy as np\n",
    "import matplotlib.pyplot as plt"
   ]
  },
  {
   "cell_type": "code",
   "execution_count": null,
   "metadata": {},
   "outputs": [],
   "source": [
    "# reading csv files and adding index columns name as index\n",
    "df = pd.read_csv(\"s_dataset.csv\")\n",
    "df = df.rename_axis(columns=\"index\")\n",
    "df"
   ]
  },
  {
   "cell_type": "code",
   "execution_count": null,
   "metadata": {},
   "outputs": [],
   "source": [
    "# removing the  un wanted columns by using drop method\n",
    "# in this column we drop two columns named as [unnamed:0 & text]\n",
    "df = df.drop(df.columns[[0,2]],axis=1)\n",
    "df\n"
   ]
  },
  {
   "cell_type": "code",
   "execution_count": null,
   "metadata": {},
   "outputs": [],
   "source": [
    "#Select all rows where label is equal to Spam & label_num is equal to 1 and save them to the variable spam\n",
    "Spam=df.loc[((df[\"label\"]==\"spam\") & (df[\"label_num\"]==1))]\n",
    "Spam"
   ]
  },
  {
   "cell_type": "code",
   "execution_count": null,
   "metadata": {},
   "outputs": [],
   "source": [
    "#Select all rows where label is equal to Spam & label_num is equal to 1 and save them to the variable spam\n",
    "Non_Spam=df.loc[((df[\"label\"]==\"nonSpam\") & (df[\"label_num\"]==0))]\n",
    "Non_Spam"
   ]
  },
  {
   "cell_type": "code",
   "execution_count": null,
   "metadata": {},
   "outputs": [],
   "source": [
    "df.describe()"
   ]
  }
 ],
 "metadata": {
  "kernelspec": {
   "display_name": "Python 3",
   "language": "python",
   "name": "python3"
  },
  "language_info": {
   "codemirror_mode": {
    "name": "ipython",
    "version": 3
   },
   "file_extension": ".py",
   "mimetype": "text/x-python",
   "name": "python",
   "nbconvert_exporter": "python",
   "pygments_lexer": "ipython3",
   "version": "3.7.6"
  }
 },
 "nbformat": 4,
 "nbformat_minor": 4
}
